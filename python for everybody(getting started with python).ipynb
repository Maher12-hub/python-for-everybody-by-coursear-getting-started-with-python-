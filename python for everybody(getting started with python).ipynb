{
 "cells": [
  {
   "cell_type": "code",
   "execution_count": 1,
   "metadata": {},
   "outputs": [
    {
     "name": "stdout",
     "output_type": "stream",
     "text": [
      "my name is maher\n"
     ]
    }
   ],
   "source": [
    "print('my name is maher')"
   ]
  },
  {
   "cell_type": "code",
   "execution_count": 2,
   "metadata": {},
   "outputs": [
    {
     "name": "stdout",
     "output_type": "stream",
     "text": [
      "1\n",
      "2\n",
      "3\n",
      "4\n",
      "5\n",
      "6\n",
      "7\n",
      "8\n",
      "9\n",
      "10\n"
     ]
    }
   ],
   "source": [
    "n=1\n",
    "while n<11:\n",
    "    print(n)\n",
    "    n+=1"
   ]
  },
  {
   "cell_type": "code",
   "execution_count": 3,
   "metadata": {},
   "outputs": [
    {
     "data": {
      "text/plain": [
       "200"
      ]
     },
     "execution_count": 3,
     "metadata": {},
     "output_type": "execute_result"
    }
   ],
   "source": [
    "hours=20\n",
    "rate=10\n",
    "pay=hours*rate\n",
    "pay"
   ]
  },
  {
   "cell_type": "code",
   "execution_count": 13,
   "metadata": {},
   "outputs": [
    {
     "name": "stdout",
     "output_type": "stream",
     "text": [
      "-1\n"
     ]
    }
   ],
   "source": [
    "8/20+1\n",
    "x=int(98.6)\n",
    "-2.0<2\n",
    "astr = 'Hello Bob'\n",
    "istr = 0\n",
    "try:\n",
    "    istr = int(astr)\n",
    "except:\n",
    "    istr = -1\n",
    "print(istr)"
   ]
  },
  {
   "cell_type": "code",
   "execution_count": 6,
   "metadata": {},
   "outputs": [
    {
     "name": "stdout",
     "output_type": "stream",
     "text": [
      "input europe floor:2\n",
      "us floor 3\n"
     ]
    }
   ],
   "source": [
    "inp=input('input europe floor:')\n",
    "usf=int(inp)+1\n",
    "print('us floor',usf)"
   ]
  },
  {
   "cell_type": "code",
   "execution_count": 8,
   "metadata": {},
   "outputs": [
    {
     "name": "stdout",
     "output_type": "stream",
     "text": [
      "enter hour:35\n",
      "enter rate per hour:2.75\n",
      "96.25\n"
     ]
    }
   ],
   "source": [
    "#Write a program to prompt the user for hours and rate per hour using input to compute gross \n",
    "#pay. Use 35 hours and a rate of 2.75 per hour to test the program (the pay should be 96.25). \n",
    "#You should use input to read a string and float() to convert the string to a number. \n",
    "#Do not worry about error checking or bad user data.\n",
    "\n",
    "hours=int(input('enter hour:'))\n",
    "rate=float(input('enter rate per hour:'))\n",
    "pay=hours*rate\n",
    "print(pay)\n"
   ]
  },
  {
   "cell_type": "code",
   "execution_count": 14,
   "metadata": {},
   "outputs": [
    {
     "name": "stdout",
     "output_type": "stream",
     "text": [
      "Is 6\n",
      "Is Still 6\n",
      "Third 6\n"
     ]
    }
   ],
   "source": [
    "x=6\n",
    "if x == 6 :\n",
    "    print('Is 6')\n",
    "    print('Is Still 6')\n",
    "    print('Third 6')"
   ]
  },
  {
   "cell_type": "code",
   "execution_count": 19,
   "metadata": {},
   "outputs": [
    {
     "name": "stdout",
     "output_type": "stream",
     "text": [
      "enter the hour:45\n",
      "enter the rate:10.50\n",
      "498.75\n"
     ]
    }
   ],
   "source": [
    "\n",
    "#3.1 Write a program to prompt the user for hours and rate per hour using input to compute \n",
    "#gross pay. Pay the hourly rate for the hours up to 40 and 1.5 times the hourly rate for all\n",
    "#hours worked above 40 hours. Use 45 hours and a rate of 10.50 per hour to test the program \n",
    "#(the pay should be 498.75). You should use input to read a string and float() to convert the \n",
    "#string to a number. Do not worry about error checking the user input - assume the user types \n",
    "#numbers properly. \n",
    "\n",
    "\n",
    "hours=float(input('enter the hour:'))\n",
    "rate=float(input('enter the rate:'))\n",
    "if hours<40:\n",
    "    pay=hours*rate\n",
    "    print(pay)\n",
    "elif hours>40:\n",
    "    hour_above_40=hours-40\n",
    "    pay_under_40=40*rate\n",
    "    pay_above_40=hour_above_40*rate*1.5\n",
    "    pay=pay_under_40+pay_above_40\n",
    "    print(pay)\n"
   ]
  },
  {
   "cell_type": "code",
   "execution_count": 25,
   "metadata": {},
   "outputs": [
    {
     "name": "stdout",
     "output_type": "stream",
     "text": [
      "enter the score:0.85\n",
      "B\n"
     ]
    }
   ],
   "source": [
    "#Write a program to prompt for a score between 0.0 and 1.0. If the score is out of range, \n",
    "#print an error. If the score is between 0.0 and 1.0, print a grade using the following\n",
    "#table:\n",
    "#Score Grade\n",
    "#>= 0.9 A\n",
    "#>= 0.8 B\n",
    "#>= 0.7 C\n",
    "#>= 0.6 D\n",
    "#< 0.6 F\n",
    "#If the user enters a value out of range, print a suitable error message and exit. \n",
    "#For the test, enter a score of 0.85. \n",
    "\n",
    "score=float(input('enter the score:'))\n",
    "if score>1.0:\n",
    "    print('error')\n",
    "elif score>=0.9:\n",
    "    print('A')\n",
    "elif score>=0.8:\n",
    "    print('B')\n",
    "elif score>=0.7:\n",
    "    print('C')\n",
    "elif score>=0.6:\n",
    "    print('D')\n",
    "elif score<0.6:\n",
    "    print('F')"
   ]
  },
  {
   "cell_type": "code",
   "execution_count": 26,
   "metadata": {},
   "outputs": [
    {
     "data": {
      "text/plain": [
       "3"
      ]
     },
     "execution_count": 26,
     "metadata": {},
     "output_type": "execute_result"
    }
   ],
   "source": [
    "import numpy as np\n",
    "a=[1,2]\n",
    "np.sum(a)"
   ]
  },
  {
   "cell_type": "code",
   "execution_count": 27,
   "metadata": {},
   "outputs": [
    {
     "name": "stdout",
     "output_type": "stream",
     "text": [
      "Hello\n"
     ]
    }
   ],
   "source": [
    "def stuff():\n",
    "    print('Hello')\n",
    "    return\n",
    "    print('World')\n",
    "\n",
    "stuff()"
   ]
  },
  {
   "cell_type": "code",
   "execution_count": 28,
   "metadata": {},
   "outputs": [
    {
     "name": "stdout",
     "output_type": "stream",
     "text": [
      ">maher\n",
      "maher\n",
      ">rahi\n",
      "rahi\n",
      ">sahi\n",
      "sahi\n",
      ">Done\n",
      "Done\n"
     ]
    }
   ],
   "source": [
    "while True:\n",
    "    line=input('>')\n",
    "    if line=='Done':\n",
    "        break\n",
    "    print(line)\n",
    "print('Done')"
   ]
  },
  {
   "cell_type": "code",
   "execution_count": 29,
   "metadata": {},
   "outputs": [
    {
     "name": "stdout",
     "output_type": "stream",
     "text": [
      ">#maher\n",
      ">maher\n",
      "maher\n",
      ">done\n",
      "done\n"
     ]
    }
   ],
   "source": [
    "while True:\n",
    "    line=input('>')\n",
    "    if line[0]=='#':\n",
    "        continue\n",
    "    if line=='done':\n",
    "        break\n",
    "    print(line)\n",
    "print('done')"
   ]
  },
  {
   "cell_type": "code",
   "execution_count": 39,
   "metadata": {},
   "outputs": [
    {
     "name": "stdout",
     "output_type": "stream",
     "text": [
      "5\n"
     ]
    }
   ],
   "source": [
    "#finding_the_minimum_value\n",
    "list1=[10,20,5,30]\n",
    "a=max(list1)\n",
    "for num in list1:\n",
    "    if num<a:\n",
    "        a=num\n",
    "print(a)"
   ]
  },
  {
   "cell_type": "code",
   "execution_count": 41,
   "metadata": {},
   "outputs": [
    {
     "name": "stdout",
     "output_type": "stream",
     "text": [
      "30\n"
     ]
    }
   ],
   "source": [
    "#finding_the_largest_value\n",
    "list1=[10,20,5,30]\n",
    "a=max(list1)\n",
    "for num in list1:\n",
    "    if num>a:\n",
    "        a=num\n",
    "print(a)"
   ]
  },
  {
   "cell_type": "code",
   "execution_count": 42,
   "metadata": {},
   "outputs": [
    {
     "name": "stdout",
     "output_type": "stream",
     "text": [
      "Avergae 120.0\n"
     ]
    }
   ],
   "source": [
    "#average_in_a_loop\n",
    "sum=0\n",
    "count=0\n",
    "li=[20,40,100,320]\n",
    "for i in li:\n",
    "    sum+=i\n",
    "    count+=1\n",
    "print('Avergae',sum/count)"
   ]
  },
  {
   "cell_type": "code",
   "execution_count": 46,
   "metadata": {},
   "outputs": [
    {
     "name": "stdout",
     "output_type": "stream",
     "text": [
      "20 False\n",
      "30 False\n",
      "3 True\n",
      "50 False\n",
      "60 False\n",
      "3 True\n",
      "70 False\n",
      "80 False\n",
      "3 True\n"
     ]
    }
   ],
   "source": [
    "#search_using_boolian_values\n",
    "li=[20,30,3,50,60,3,70,80,3]\n",
    "found=False\n",
    "for i in li:\n",
    "    if i==3:\n",
    "        found=True\n",
    "    print(i,found)\n",
    "    found=False\n",
    "        "
   ]
  },
  {
   "cell_type": "code",
   "execution_count": 51,
   "metadata": {},
   "outputs": [
    {
     "name": "stdout",
     "output_type": "stream",
     "text": [
      ">fuck\n",
      "invalid input\n",
      ">suck\n",
      "invalid input\n",
      ">20\n",
      "20.0\n",
      ">10\n",
      "10.0\n",
      ">15\n",
      "15.0\n",
      ">done\n",
      "Total: 45.0\n",
      "Count: 3\n",
      "Average: 15.0\n"
     ]
    }
   ],
   "source": [
    "total=0\n",
    "count=0\n",
    "while True:\n",
    "    value=input('>')\n",
    "    if value=='done':\n",
    "        break\n",
    "    \n",
    "    try:\n",
    "        value=float(value)\n",
    "        print(value)\n",
    "    except:\n",
    "        print('invalid input')\n",
    "        continue\n",
    "    total+=value\n",
    "    count+=1\n",
    "print('Total:',total)\n",
    "print('Count:',count)\n",
    "print('Average:',total/count)"
   ]
  },
  {
   "cell_type": "code",
   "execution_count": 55,
   "metadata": {},
   "outputs": [
    {
     "name": "stdout",
     "output_type": "stream",
     "text": [
      ">7\n",
      ">2\n",
      ">bob\n",
      "Invalid input\n",
      ">10\n",
      ">4\n",
      ">done\n",
      "Maximum is 10\n",
      "Minimum is 2\n"
     ]
    }
   ],
   "source": [
    "#Write a program that repeatedly prompts a user for integer numbers until the user enters \n",
    "#'done'. Once 'done' is entered, print out the largest and smallest of the numbers. \n",
    "#If the user enters anything other than a valid number catch it with a try/except and put \n",
    "#out an appropriate message and ignore the number. Enter 7, 2, bob, 10, and 4 and match the \n",
    "#output below. \n",
    "\n",
    "smallest=None\n",
    "largest=None\n",
    "li=[]\n",
    "while True:\n",
    "    num=input('>')\n",
    "    if num=='done':\n",
    "        break\n",
    "    try:\n",
    "        num=int(num)\n",
    "        \n",
    "    except:\n",
    "        print('Invalid input')\n",
    "        continue\n",
    "    li.append(num)\n",
    "for i in li:\n",
    "    if largest is None:\n",
    "        largest=i\n",
    "    elif i>largest:\n",
    "        largest=i\n",
    "    elif smallest is None:\n",
    "        smallest=i\n",
    "    elif i <smallest:\n",
    "        smallest=i\n",
    "print('Maximum is',largest)\n",
    "print('Minimum is',smallest)\n"
   ]
  },
  {
   "cell_type": "code",
   "execution_count": null,
   "metadata": {},
   "outputs": [],
   "source": []
  }
 ],
 "metadata": {
  "kernelspec": {
   "display_name": "Python 3",
   "language": "python",
   "name": "python3"
  },
  "language_info": {
   "codemirror_mode": {
    "name": "ipython",
    "version": 3
   },
   "file_extension": ".py",
   "mimetype": "text/x-python",
   "name": "python",
   "nbconvert_exporter": "python",
   "pygments_lexer": "ipython3",
   "version": "3.7.6"
  }
 },
 "nbformat": 4,
 "nbformat_minor": 4
}
